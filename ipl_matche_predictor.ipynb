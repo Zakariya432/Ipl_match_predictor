{
 "cells": [
  {
   "cell_type": "code",
   "execution_count": null,
   "id": "5f332a79",
   "metadata": {},
   "outputs": [],
   "source": [
    "import numpy as np\n",
    "import pandas as pd"
   ]
  },
  {
   "cell_type": "code",
   "execution_count": null,
   "id": "ca79ee5e",
   "metadata": {},
   "outputs": [],
   "source": [
    "match = pd.read_csv('IPL Matches 2008-2020.csv')\n",
    "delivery = pd.read_csv('IPL Ball-by-Ball 2008-2020.csv')"
   ]
  },
  {
   "cell_type": "code",
   "execution_count": null,
   "id": "abc11d3d",
   "metadata": {},
   "outputs": [],
   "source": [
    "match.head()"
   ]
  },
  {
   "cell_type": "code",
   "execution_count": null,
   "id": "de849e95",
   "metadata": {},
   "outputs": [],
   "source": [
    "match.shape"
   ]
  },
  {
   "cell_type": "code",
   "execution_count": null,
   "id": "3809f97c",
   "metadata": {},
   "outputs": [],
   "source": [
    "delivery"
   ]
  },
  {
   "cell_type": "code",
   "execution_count": null,
   "id": "019471a5",
   "metadata": {},
   "outputs": [],
   "source": [
    "delivery.shape"
   ]
  },
  {
   "cell_type": "code",
   "execution_count": null,
   "id": "ab16a569",
   "metadata": {},
   "outputs": [],
   "source": [
    "#To find out the total runs of both the innings we use groupby\n",
    "total_score_df = delivery.groupby(['id','inning']).sum()['total_runs'].reset_index()\n"
   ]
  },
  {
   "cell_type": "code",
   "execution_count": null,
   "id": "001f910f",
   "metadata": {},
   "outputs": [],
   "source": [
    "total_score_df = total_score_df[total_score_df['inning'] == 1] #because we need the scores of 1st innings which is chasing by team2"
   ]
  },
  {
   "cell_type": "code",
   "execution_count": null,
   "id": "25e211bf",
   "metadata": {
    "scrolled": true
   },
   "outputs": [],
   "source": [
    "#now we will merge the total_score_df and mached.head, since from mached we would not get total runs by 1 and 2 team\n",
    "match_df = match.merge(total_score_df[['id','total_runs']],left_on='id',right_on='id')"
   ]
  },
  {
   "cell_type": "code",
   "execution_count": null,
   "id": "3abd4d23",
   "metadata": {},
   "outputs": [],
   "source": [
    "match_df"
   ]
  },
  {
   "cell_type": "code",
   "execution_count": null,
   "id": "c68cad0e",
   "metadata": {},
   "outputs": [],
   "source": [
    "match_df['team1'].unique()"
   ]
  },
  {
   "cell_type": "code",
   "execution_count": null,
   "id": "4250aab5",
   "metadata": {},
   "outputs": [],
   "source": [
    "teams = [\n",
    "    'Sunrises Hyderabad',\n",
    "    'Mumbai Indians',\n",
    "    'Royal Challengers Bangalore',\n",
    "    'Kolkata Knight Riders',\n",
    "    'Kings XI punjab',\n",
    "    'Chennai Super Kings',\n",
    "    'Rajasthan Royals',\n",
    "    'Delhi Capitals'\n",
    "]"
   ]
  },
  {
   "cell_type": "code",
   "execution_count": null,
   "id": "54fe7fd2",
   "metadata": {},
   "outputs": [],
   "source": [
    "match_df['team1'] = match_df['team1'].str.replace('Delhi Daredevils','Delhi Capitals')\n",
    "match_df['team2'] = match_df['team2'].str.replace('Delhi Daredevils','Delhi Capitals')\n",
    "\n",
    "match_df['team1'] = match_df['team1'].str.replace('Deccan Chargers','Sunrisers Hyderabad')\n",
    "match_df['team2'] = match_df['team2'].str.replace('Deccan Chargers','Sunrisers Hyderabad')\n"
   ]
  },
  {
   "cell_type": "code",
   "execution_count": null,
   "id": "78f9c61d",
   "metadata": {},
   "outputs": [],
   "source": [
    "match_df = match_df[match_df['team1'].isin(teams)]\n",
    "match_df = match_df[match_df['team2'].isin(teams)]"
   ]
  },
  {
   "cell_type": "code",
   "execution_count": null,
   "id": "1b933e1e",
   "metadata": {},
   "outputs": [],
   "source": [
    "match_df.shape"
   ]
  },
  {
   "cell_type": "code",
   "execution_count": null,
   "id": "b44b898f",
   "metadata": {},
   "outputs": [],
   "source": [
    "match_df = match_df[['id','city','winner','total_runs']]"
   ]
  },
  {
   "cell_type": "code",
   "execution_count": null,
   "id": "2f09c2dd",
   "metadata": {},
   "outputs": [],
   "source": [
    "delivery_df = match_df.merge(delivery,on='id')"
   ]
  },
  {
   "cell_type": "code",
   "execution_count": null,
   "id": "dee47278",
   "metadata": {},
   "outputs": [],
   "source": [
    "delivery_df = delivery_df[delivery_df['inning']==2]"
   ]
  },
  {
   "cell_type": "code",
   "execution_count": null,
   "id": "3e21886a",
   "metadata": {},
   "outputs": [],
   "source": [
    "delivery_df.shape"
   ]
  },
  {
   "cell_type": "code",
   "execution_count": null,
   "id": "d0036029",
   "metadata": {},
   "outputs": [],
   "source": [
    "#for current_score\n",
    "delivery_df['current_score'] = delivery_df.groupby('id').cumsum()['total_runs_y']"
   ]
  },
  {
   "cell_type": "code",
   "execution_count": null,
   "id": "e60fba5d",
   "metadata": {},
   "outputs": [],
   "source": [
    "#for runs_left\n",
    "delivery_df['runs_left'] = delivery_df['total_runs_x'] - delivery_df['current_score'] #found the runs left"
   ]
  },
  {
   "cell_type": "code",
   "execution_count": null,
   "id": "39e21a7c",
   "metadata": {},
   "outputs": [],
   "source": [
    "delivery_df"
   ]
  },
  {
   "cell_type": "code",
   "execution_count": null,
   "id": "cf710d0a",
   "metadata": {},
   "outputs": [],
   "source": [
    "#for balls_left\n",
    "delivery_df['balls_left'] = 126 - (delivery_df['over']*6 + delivery_df['ball'])"
   ]
  },
  {
   "cell_type": "code",
   "execution_count": null,
   "id": "78695681",
   "metadata": {},
   "outputs": [],
   "source": [
    "delivery_df"
   ]
  },
  {
   "cell_type": "code",
   "execution_count": null,
   "id": "f89949ce",
   "metadata": {},
   "outputs": [],
   "source": [
    "#for player_dismissed\n",
    "delivery_df['player_dismissed'] = delivery_df['player_dismissed'].fillna(\"0\")\n",
    "delivery_df['player_dismissed'] = delivery_df['player_dismissed'].apply(lambda x:x if x == \"0\" else \"1\")\n",
    "delivery_df['player_dismissed'] = delivery_df['player_dismissed'].astype('int')\n",
    "wickets = delivery_df.groupby('id').cumsum()['player_dismissed'].values\n",
    "delivery_df['wickets'] = 10 - wickets\n",
    "delivery_df.head()"
   ]
  },
  {
   "cell_type": "code",
   "execution_count": null,
   "id": "fb617b1f",
   "metadata": {},
   "outputs": [],
   "source": [
    "delivery_df.tail()"
   ]
  },
  {
   "cell_type": "code",
   "execution_count": null,
   "id": "8efa5363",
   "metadata": {},
   "outputs": [],
   "source": [
    "#for current runrate crr=runs/overs\n",
    "delivery_df['crr'] = (delivery_df['current_score']*6)/(120 - delivery_df['balls_left'])"
   ]
  },
  {
   "cell_type": "code",
   "execution_count": null,
   "id": "566035c2",
   "metadata": {},
   "outputs": [],
   "source": [
    "#for required runrate\n",
    "delivery_df['rrr'] = (delivery_df['runs_left']*6)/delivery_df['balls_left']"
   ]
  },
  {
   "cell_type": "code",
   "execution_count": null,
   "id": "c5cdd1a4",
   "metadata": {},
   "outputs": [],
   "source": [
    "#for results\n",
    "def result(row):\n",
    "    return 1 if row['batting_team'] == row['winner'] else 0"
   ]
  },
  {
   "cell_type": "code",
   "execution_count": null,
   "id": "8926726c",
   "metadata": {},
   "outputs": [],
   "source": [
    "delivery_df['result'] = delivery_df.apply(result,axis=1)"
   ]
  },
  {
   "cell_type": "code",
   "execution_count": null,
   "id": "bf281d73",
   "metadata": {},
   "outputs": [],
   "source": [
    "#we will arrange in which order we need the columns which are as follows\n",
    "final_df = delivery_df[['batting_team','bowling_team','city','runs_left','balls_left','wickets','total_runs_x','crr','rrr','result']]"
   ]
  },
  {
   "cell_type": "code",
   "execution_count": null,
   "id": "0218913c",
   "metadata": {},
   "outputs": [],
   "source": [
    "#to shuffle\n",
    "final_df = final_df.sample(final_df.shape[0])"
   ]
  },
  {
   "cell_type": "code",
   "execution_count": null,
   "id": "54f6d8c3",
   "metadata": {},
   "outputs": [],
   "source": [
    "final_df.sample()"
   ]
  },
  {
   "cell_type": "code",
   "execution_count": null,
   "id": "7e0716ed",
   "metadata": {},
   "outputs": [],
   "source": [
    "final_df.isnull().sum()"
   ]
  },
  {
   "cell_type": "code",
   "execution_count": null,
   "id": "cbb0efac",
   "metadata": {},
   "outputs": [],
   "source": [
    "final_df.dropna(inplace=True)"
   ]
  },
  {
   "cell_type": "code",
   "execution_count": null,
   "id": "a77032b9",
   "metadata": {},
   "outputs": [],
   "source": [
    "final_df = final_df[final_df['balls_left'] !=0]"
   ]
  },
  {
   "cell_type": "code",
   "execution_count": null,
   "id": "b83bea00",
   "metadata": {},
   "outputs": [],
   "source": [
    "# for train_test and split\n",
    "X = final_df.iloc[:,:-1] #all rows except last column\n",
    "y = final_df.iloc[:,-1] #all rows except last column\n",
    "from sklearn.model_selection import train_test_split\n",
    "X_train,X_test,y_train,y_test = train_test_split(X,y,test_size=0.2,random_state=1)"
   ]
  },
  {
   "cell_type": "code",
   "execution_count": null,
   "id": "250bb548",
   "metadata": {},
   "outputs": [],
   "source": []
  },
  {
   "cell_type": "code",
   "execution_count": null,
   "id": "f20474f9",
   "metadata": {},
   "outputs": [],
   "source": [
    "X_train"
   ]
  },
  {
   "cell_type": "code",
   "execution_count": null,
   "id": "a139e828",
   "metadata": {},
   "outputs": [],
   "source": [
    "#since the first three rows are string,so we have to apply one hot coding\n",
    "from sklearn.compose import ColumnTransformer\n",
    "from sklearn.preprocessing import OneHotEncoder\n",
    "\n",
    "trf = ColumnTransformer([\n",
    "    ('trf',OneHotEncoder(sparse=False,drop='first'),['batting_team','bowling_team','city'])\n",
    "]\n",
    ",remainder='passthrough')"
   ]
  },
  {
   "cell_type": "code",
   "execution_count": null,
   "id": "7ada6b2c",
   "metadata": {},
   "outputs": [],
   "source": [
    "from sklearn.linear_model import LogisticRegression\n",
    "from sklearn.pipeline import Pipeline"
   ]
  },
  {
   "cell_type": "code",
   "execution_count": null,
   "id": "14907957",
   "metadata": {},
   "outputs": [],
   "source": [
    "pipe = Pipeline(steps=[\n",
    "    ('step1',trf),\n",
    "    ('step2',LogisticRegression(solver='liblinear'))\n",
    "])"
   ]
  },
  {
   "cell_type": "code",
   "execution_count": null,
   "id": "eadf62a1",
   "metadata": {},
   "outputs": [],
   "source": [
    "pipe.fit(X_train,y_train)"
   ]
  },
  {
   "cell_type": "code",
   "execution_count": null,
   "id": "cc77787d",
   "metadata": {},
   "outputs": [],
   "source": [
    "X_train.describe()"
   ]
  },
  {
   "cell_type": "code",
   "execution_count": null,
   "id": "e0c9291b",
   "metadata": {},
   "outputs": [],
   "source": [
    "y_pred = pipe.predict(X_test)"
   ]
  },
  {
   "cell_type": "code",
   "execution_count": null,
   "id": "419d5734",
   "metadata": {},
   "outputs": [],
   "source": [
    "from sklearn.metrics import accuracy_score\n",
    "accuracy_score(y_test,y_pred)"
   ]
  },
  {
   "cell_type": "code",
   "execution_count": null,
   "id": "393a9b2b",
   "metadata": {},
   "outputs": [],
   "source": [
    "pipe.predict_proba(X_test)[10] # to find the probability of a team to win a match"
   ]
  },
  {
   "cell_type": "code",
   "execution_count": null,
   "id": "ba8bb64e",
   "metadata": {},
   "outputs": [],
   "source": [
    "def match_progression(x_df,id,pipe):\n",
    "    match = x_df[x_df['id'] == id]\n",
    "    match = match[(match['ball'] == 6)]\n",
    "    temp_df = match[['batting_team','bowlig_team','city','runs_left','balls_left','wickets','total_runs']]\n",
    "    temp_df = temp_df[temp_df['balls_left'] != 0]\n",
    "    result = pipe.predict_proba(temp_df)\n",
    "    temp_df['lose'] = np.round(result.T[0]*100,1)\n",
    "    temp_df['win'] = np.round(result.T[1]*100,1)\n",
    "    temp_df['end_of_over'] = range(1,temp_df.shape[0]+1)\n",
    "    \n",
    "    target = temp_df['total_runs_x'].values[0]\n",
    "    runs = list(temp_df['runs_left'].values)\n",
    "    new_runs = runs[:]\n",
    "    runs.insert(0,target)\n",
    "    temp_df['runs_after_over'] = np.array(runs)[:-1] - np.array(new_runs)\n",
    "    wickets = lsit(temp_df['wickets'].values)\n",
    "    new_wickets = wickets[:]\n",
    "    new_wickets.insert(0,10)\n",
    "    wickets.append(0)\n",
    "    w = np.array(wickets)\n",
    "    nw = np.array(new_wickets)\n",
    "    temp_df['wickets_in_over'] = (nw-w)[0:temp_df.shape[0]]\n",
    "    \n",
    "    print(\"Target-\",target)\n",
    "    temp_df = temp_df[['end_of_over','runs_after_over','wickets_in_over','lose','win']]\n",
    "    return temp_df,target\n",
    "\n",
    "    "
   ]
  },
  {
   "cell_type": "code",
   "execution_count": null,
   "id": "dbf41798",
   "metadata": {},
   "outputs": [],
   "source": [
    "#summary of first match\n",
    "temp_df,target = match_progression(delivery_df,1,pipe)\n",
    "temp_df"
   ]
  },
  {
   "cell_type": "code",
   "execution_count": null,
   "id": "ca0c699c",
   "metadata": {},
   "outputs": [],
   "source": [
    "import matplotlib.pyplot as plt\n",
    "plt.figure(figsize=(18,8))\n",
    "plt.plot(temp_df['end_of_over'],temp_df['wickets_in_over'],color='yellow',linewidth=3)\n",
    "plt.plot(temp_df['end_of_over'],temp_df['win'],color='#00a65a',linewidth=4)\n",
    "plt.plot(temp_df['end_of_over'],temp_df['lose'],color='red',linewidth=4)\n",
    "plot.bar(temp_df['end_of_over'],temp_df['runs_after_over'])\n",
    "plt.title('Target-' + str(target))"
   ]
  },
  {
   "cell_type": "code",
   "execution_count": null,
   "id": "b15a9028",
   "metadata": {},
   "outputs": [],
   "source": [
    "teams"
   ]
  },
  {
   "cell_type": "code",
   "execution_count": null,
   "id": "91f53a1b",
   "metadata": {},
   "outputs": [],
   "source": [
    "#city names\n",
    "delivery_df['city'].unique()"
   ]
  },
  {
   "cell_type": "code",
   "execution_count": null,
   "id": "76286b02",
   "metadata": {},
   "outputs": [],
   "source": [
    "import pickle\n",
    "pickle.dump(pipe,open('pipe.pkl','wb'))"
   ]
  },
  {
   "cell_type": "code",
   "execution_count": null,
   "id": "26a5e68d",
   "metadata": {},
   "outputs": [],
   "source": []
  }
 ],
 "metadata": {
  "kernelspec": {
   "display_name": "Python 3 (ipykernel)",
   "language": "python",
   "name": "python3"
  },
  "language_info": {
   "codemirror_mode": {
    "name": "ipython",
    "version": 3
   },
   "file_extension": ".py",
   "mimetype": "text/x-python",
   "name": "python",
   "nbconvert_exporter": "python",
   "pygments_lexer": "ipython3",
   "version": "3.9.7"
  }
 },
 "nbformat": 4,
 "nbformat_minor": 5
}
